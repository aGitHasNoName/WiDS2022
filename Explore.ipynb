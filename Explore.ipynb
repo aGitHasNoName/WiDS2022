{
 "cells": [
  {
   "cell_type": "code",
   "execution_count": null,
   "id": "3d3cc80e-1eb0-4583-b13e-76d5c4010b48",
   "metadata": {},
   "outputs": [],
   "source": [
    "!pip install sweetviz"
   ]
  },
  {
   "cell_type": "code",
   "execution_count": null,
   "id": "0370c514-89b8-4fa2-a14b-e589160597d6",
   "metadata": {},
   "outputs": [],
   "source": [
    "!wget https://raw.githubusercontent.com/aGitHasNoName/WiDS2022/main/test.csv\n",
    "!wget https://raw.githubusercontent.com/aGitHasNoName/WiDS2022/main/train.csv"
   ]
  },
  {
   "cell_type": "code",
   "execution_count": null,
   "id": "8dd6ab49-575c-4b5f-b9b8-8780776818c8",
   "metadata": {},
   "outputs": [],
   "source": [
    "import pandas as pd\n",
    "import sweetviz as sv"
   ]
  },
  {
   "cell_type": "code",
   "execution_count": null,
   "id": "3e653999-274d-493a-998f-5db96d60792a",
   "metadata": {},
   "outputs": [],
   "source": [
    "train_df = pd.read_csv('train.csv')\n",
    "test_df = pd.read_csv('test.csv')"
   ]
  },
  {
   "cell_type": "code",
   "execution_count": null,
   "id": "024cb102-d45e-42c3-b927-7e3e41009b1a",
   "metadata": {},
   "outputs": [],
   "source": [
    "len(train_df)"
   ]
  },
  {
   "cell_type": "markdown",
   "id": "4ba9e829-ed1f-41c7-b0cb-8d2ded60cb0c",
   "metadata": {},
   "source": [
    "remove id\n",
    "remove state 6?\n",
    "remove precipitation and wind?\n",
    "replace missing with state average - or is state enough??? Missing is only wind/precip\n",
    "energy_star_rating, facility_type, floor_area, winter temps are closest to target\n",
    "in test data, all temps highly correlated to state\n",
    "all test data collected same year, not year in train\n",
    "\n",
    "experimental:\n",
    "year factor - which year's weather is closest to year 7? or which winter is closest?\n",
    "use only winter temps?"
   ]
  },
  {
   "cell_type": "code",
   "execution_count": null,
   "id": "508cf59d-be7d-4ece-bcdf-0cf9087f5f1b",
   "metadata": {},
   "outputs": [],
   "source": [
    "train_df.columns"
   ]
  },
  {
   "cell_type": "code",
   "execution_count": null,
   "id": "9552a027-7e73-4ae7-8d03-e0cbdb659fa2",
   "metadata": {},
   "outputs": [],
   "source": [
    "test_df.groupby(\"State_Factor\")[[\"Year_Factor\", \"energy_star_rating\"]].count()"
   ]
  },
  {
   "cell_type": "code",
   "execution_count": null,
   "id": "40cf935b-7696-4080-a487-17d4a96d719f",
   "metadata": {},
   "outputs": [],
   "source": [
    "train_df.groupby(\"State_Factor\")[[\"Year_Factor\", \"energy_star_rating\"]].count()"
   ]
  },
  {
   "cell_type": "code",
   "execution_count": null,
   "id": "3374f4e9-5f0b-40d7-bd85-e0730c9941a6",
   "metadata": {},
   "outputs": [],
   "source": [
    "test_df.groupby(\"Year_Factor\")[[\"Year_Factor\", \"energy_star_rating\"]].count()"
   ]
  },
  {
   "cell_type": "code",
   "execution_count": null,
   "id": "85c74471-8a08-4022-b587-a5eef2f458e0",
   "metadata": {},
   "outputs": [],
   "source": [
    "train_df.groupby(\"Year_Factor\")[[\"Year_Factor\", \"energy_star_rating\"]].count()"
   ]
  },
  {
   "cell_type": "code",
   "execution_count": null,
   "id": "8d1f1fc1-d5bd-4d19-950d-b66b90a87bcb",
   "metadata": {},
   "outputs": [],
   "source": [
    "train_df.groupby(\"Year_Factor\")[[\"site_eui\", \"january_avg_temp\"]].mean()"
   ]
  },
  {
   "cell_type": "code",
   "execution_count": null,
   "id": "3ee52524-ff49-4d7e-9a06-63fee2833d94",
   "metadata": {},
   "outputs": [],
   "source": [
    "test_df.groupby(\"facility_type\")[[\"Year_Factor\"]].count().sort_values(\"Year_Factor\")"
   ]
  },
  {
   "cell_type": "code",
   "execution_count": null,
   "id": "90a123c4-7e0a-438d-a27a-76e7bb57eb91",
   "metadata": {},
   "outputs": [],
   "source": [
    "train_df.groupby(\"facility_type\")[[\"site_eui\"]].count().sort_values(\"site_eui\")"
   ]
  },
  {
   "cell_type": "code",
   "execution_count": null,
   "id": "7df0588d-3772-4e7f-bbd1-d10e4e15d3a9",
   "metadata": {},
   "outputs": [],
   "source": [
    "train_df.groupby(\"facility_type\")[[\"site_eui\"]].mean()"
   ]
  },
  {
   "cell_type": "code",
   "execution_count": null,
   "id": "6d74f2cd-953c-49aa-907a-693b07cb815c",
   "metadata": {},
   "outputs": [],
   "source": [
    "len(train_df)"
   ]
  },
  {
   "cell_type": "code",
   "execution_count": null,
   "id": "564d4880-a999-4b18-8110-32a12b9d6a50",
   "metadata": {},
   "outputs": [],
   "source": [
    "len(test_df)"
   ]
  },
  {
   "cell_type": "code",
   "execution_count": null,
   "id": "944677bc-1089-48e5-98b6-080cfe9e9e58",
   "metadata": {},
   "outputs": [],
   "source": [
    "comparison_report = sv.compare([train_df,'Train'], [test_df,'Test'], target_feat='site_eui')"
   ]
  },
  {
   "cell_type": "code",
   "execution_count": null,
   "id": "e80d16b0-043e-481b-ad10-87096fc74831",
   "metadata": {},
   "outputs": [],
   "source": [
    "comparison_report.show_notebook()"
   ]
  },
  {
   "cell_type": "code",
   "execution_count": null,
   "id": "2da32c00-ce56-447e-b80e-5bb3a7784474",
   "metadata": {},
   "outputs": [],
   "source": []
  }
 ],
 "metadata": {
  "kernelspec": {
   "display_name": "Python 3",
   "language": "python",
   "name": "python3"
  },
  "language_info": {
   "codemirror_mode": {
    "name": "ipython",
    "version": 3
   },
   "file_extension": ".py",
   "mimetype": "text/x-python",
   "name": "python",
   "nbconvert_exporter": "python",
   "pygments_lexer": "ipython3",
   "version": "3.8.2"
  }
 },
 "nbformat": 4,
 "nbformat_minor": 5
}
