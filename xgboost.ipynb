{
 "cells": [
  {
   "cell_type": "code",
   "execution_count": null,
   "id": "0d2894d5-fd17-4b9c-a29b-af0495abc2e1",
   "metadata": {},
   "outputs": [],
   "source": [
    "!conda install -c conda-forge xgboost -y"
   ]
  },
  {
   "cell_type": "code",
   "execution_count": null,
   "id": "52cfb497-95f5-46ec-bef8-746b8cd7ff4c",
   "metadata": {},
   "outputs": [],
   "source": [
    "import xgboost as xgb"
   ]
  },
  {
   "cell_type": "code",
   "execution_count": null,
   "id": "83b7851b-53f3-46cd-a159-fe93be02f7ad",
   "metadata": {},
   "outputs": [],
   "source": [
    "from sklearn.model_selection import cross_val_score\n",
    "import pandas as pd\n",
    "from sklearn.model_selection import train_test_split\n",
    "from sklearn.preprocessing import OneHotEncoder\n",
    "from sklearn.preprocessing import LabelBinarizer\n",
    "from sklearn.metrics import mean_squared_error"
   ]
  },
  {
   "cell_type": "code",
   "execution_count": null,
   "id": "4a9df7d0-b953-42ef-9fb5-2d773c508809",
   "metadata": {},
   "outputs": [],
   "source": [
    "train_full = \"no_id_train.csv\"\n",
    "target_full = \"no_id_target.csv\""
   ]
  },
  {
   "cell_type": "code",
   "execution_count": null,
   "id": "ebcab6d1-471e-4e80-97cd-2ef6f6e1fdb6",
   "metadata": {},
   "outputs": [],
   "source": [
    "X = pd.read_csv(train_full)\n",
    "y = pd.read_csv(target_full)"
   ]
  },
  {
   "cell_type": "code",
   "execution_count": null,
   "id": "9514503f-cf18-4bc2-be8a-fa4e303541bc",
   "metadata": {},
   "outputs": [],
   "source": [
    "states = pd.get_dummies(X.State_Factor)\n",
    "X = pd.concat([X, states], axis=1).drop(['State_Factor'], axis=1)"
   ]
  },
  {
   "cell_type": "code",
   "execution_count": null,
   "id": "2f6e338f-a79a-4653-9617-ebd7db171149",
   "metadata": {},
   "outputs": [],
   "source": [
    "build = pd.get_dummies(X.building_class)\n",
    "X = pd.concat([X, build], axis=1).drop(['building_class'], axis=1)"
   ]
  },
  {
   "cell_type": "code",
   "execution_count": null,
   "id": "3f442a5c-34d9-42a3-a02c-d8bfa9d24413",
   "metadata": {},
   "outputs": [],
   "source": [
    "facility = pd.get_dummies(X.facility_type)\n",
    "X = pd.concat([X, facility], axis=1).drop(['facility_type'], axis=1)"
   ]
  },
  {
   "cell_type": "code",
   "execution_count": null,
   "id": "4ee6b4c1-4dc6-4e0b-94b9-c2ec8dc31411",
   "metadata": {},
   "outputs": [],
   "source": [
    "year = pd.get_dummies(X.Year_Factor, prefix=\"Year\")\n",
    "X = pd.concat([X, year], axis=1).drop(['Year_Factor'], axis=1)"
   ]
  },
  {
   "cell_type": "code",
   "execution_count": null,
   "id": "eeeb0495-5da0-47f2-b9a7-80b0fd1b1b66",
   "metadata": {},
   "outputs": [],
   "source": [
    "X.head()"
   ]
  },
  {
   "cell_type": "code",
   "execution_count": null,
   "id": "96de54f3-fda6-4ed3-b498-969e0f036985",
   "metadata": {},
   "outputs": [],
   "source": [
    "xtrain, xtest, ytrain, ytest = train_test_split(X, y, test_size=0.2)"
   ]
  },
  {
   "cell_type": "code",
   "execution_count": null,
   "id": "63a554a0-1b10-4bac-81d2-e33ee2c4953e",
   "metadata": {},
   "outputs": [],
   "source": [
    "xgbr = xgb.XGBRegressor(objective='reg:squarederror')"
   ]
  },
  {
   "cell_type": "code",
   "execution_count": null,
   "id": "0a6aaa19-52cd-42c5-8ec9-538399a4b31b",
   "metadata": {},
   "outputs": [],
   "source": []
  },
  {
   "cell_type": "code",
   "execution_count": null,
   "id": "a7467a9c-85e8-4df9-a279-8554c696ad9a",
   "metadata": {},
   "outputs": [],
   "source": [
    "ytrain = ytrain.drop(\"Unnamed: 0\", axis=1)\n",
    "xtrain = xtrain.drop(\"Unnamed: 0\", axis=1)\n",
    "ytest = ytest.drop(\"Unnamed: 0\", axis=1)\n",
    "xtest = xtest.drop(\"Unnamed: 0\", axis=1)"
   ]
  },
  {
   "cell_type": "code",
   "execution_count": null,
   "id": "f19ae804-c22f-4c3e-9cc2-e17f02d2d55a",
   "metadata": {},
   "outputs": [],
   "source": [
    "xgbr.fit(xtrain, ytrain)"
   ]
  },
  {
   "cell_type": "code",
   "execution_count": null,
   "id": "9da56a3f-dd9b-448d-9548-4cb9d74d181f",
   "metadata": {},
   "outputs": [],
   "source": [
    "score = xgbr.score(xtrain, ytrain)  \n",
    "print(\"Training score: \", score)"
   ]
  },
  {
   "cell_type": "code",
   "execution_count": null,
   "id": "5b48aa52-c41f-4e9f-b0a6-08304720aba0",
   "metadata": {},
   "outputs": [],
   "source": [
    "scores = cross_val_score(xgbr, xtrain, ytrain,cv=10)\n",
    "print(\"Mean cross-validation score: %.2f\" % scores.mean())"
   ]
  },
  {
   "cell_type": "code",
   "execution_count": null,
   "id": "e3fd81ac-3e4e-4932-801a-5ff6bff08aa3",
   "metadata": {},
   "outputs": [],
   "source": [
    "ypred = xgbr.predict(xtest)\n",
    "mse = mean_squared_error(ytest, ypred)\n",
    "print(\"RMSE: %.2f\" % (mse**(1/2.0)))"
   ]
  },
  {
   "cell_type": "code",
   "execution_count": null,
   "id": "43daf2f3-8860-410e-b9b8-0babcae94901",
   "metadata": {},
   "outputs": [],
   "source": []
  }
 ],
 "metadata": {
  "kernelspec": {
   "display_name": "Python 3",
   "language": "python",
   "name": "python3"
  },
  "language_info": {
   "codemirror_mode": {
    "name": "ipython",
    "version": 3
   },
   "file_extension": ".py",
   "mimetype": "text/x-python",
   "name": "python",
   "nbconvert_exporter": "python",
   "pygments_lexer": "ipython3",
   "version": "3.8.2"
  }
 },
 "nbformat": 4,
 "nbformat_minor": 5
}
