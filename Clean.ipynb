{
 "cells": [
  {
   "cell_type": "code",
   "execution_count": null,
   "id": "d2f31763-8728-48b4-a8a4-342c86f281d1",
   "metadata": {},
   "outputs": [],
   "source": [
    "import pandas as pd"
   ]
  },
  {
   "cell_type": "code",
   "execution_count": null,
   "id": "d53be700-3150-4c7d-8640-dfb78e7a2c67",
   "metadata": {},
   "outputs": [],
   "source": [
    "train_df = pd.read_csv('train.csv')\n",
    "test_df = pd.read_csv('test.csv')"
   ]
  },
  {
   "cell_type": "code",
   "execution_count": null,
   "id": "c0f7a936-17a0-49db-8e96-98c851c9c61e",
   "metadata": {},
   "outputs": [],
   "source": [
    "train_df.columns"
   ]
  },
  {
   "cell_type": "code",
   "execution_count": null,
   "id": "c3ee24fc-c03d-4be0-bd3e-af946f7dfb47",
   "metadata": {},
   "outputs": [],
   "source": [
    "train_df.head()"
   ]
  },
  {
   "cell_type": "code",
   "execution_count": null,
   "id": "969bc71f-54a5-4cc1-a4e2-3598a8a3e057",
   "metadata": {},
   "outputs": [],
   "source": []
  },
  {
   "cell_type": "code",
   "execution_count": null,
   "id": "e2677d36-d292-499f-aaf7-f0b5e6bd37aa",
   "metadata": {},
   "outputs": [],
   "source": [
    "no_id = train_df.drop(\"id\", axis=1)\n",
    "no_id_target = no_id[[\"site_eui\"]]\n",
    "no_id_final = no_id.drop(\"site_eui\", axis=1)"
   ]
  },
  {
   "cell_type": "code",
   "execution_count": null,
   "id": "881c2581-badd-4e44-b547-0e890028d0ff",
   "metadata": {},
   "outputs": [],
   "source": [
    "no_id_final.to_csv(\"no_id_train.csv\")\n",
    "no_id_target.to_csv(\"no_id_target.csv\")"
   ]
  },
  {
   "cell_type": "code",
   "execution_count": null,
   "id": "55c176c4-9f5b-4865-ba5f-790538db9f78",
   "metadata": {},
   "outputs": [],
   "source": [
    "no_state_6 = no_id[no_id.State_Factor != \"State_6\"]\n",
    "no_state_6_target = no_state_6[[\"site_eui\"]]\n",
    "no_state_6 = no_state_6.drop(\"site_eui\", axis=1)"
   ]
  },
  {
   "cell_type": "code",
   "execution_count": null,
   "id": "05d5ce5a-3a53-4fbf-bb22-6bf05b63ef9c",
   "metadata": {},
   "outputs": [],
   "source": [
    "no_state_6.to_csv(\"no_state_6_train.csv\")\n",
    "no_state_6_target.to_csv(\"no_state_6_target.csv\")"
   ]
  },
  {
   "cell_type": "code",
   "execution_count": null,
   "id": "9e30014a-2fb1-424e-8aaa-aa949d1b1742",
   "metadata": {},
   "outputs": [],
   "source": [
    "no_precip_maxes = no_id.drop(['cooling_degree_days',\n",
    "       'heating_degree_days', 'precipitation_inches', 'snowfall_inches',\n",
    "       'snowdepth_inches', 'days_below_30F', 'days_below_20F',\n",
    "       'days_below_10F', 'days_below_0F', 'days_above_80F', 'days_above_90F',\n",
    "       'days_above_100F', 'days_above_110F', 'direction_max_wind_speed',\n",
    "       'direction_peak_wind_speed', 'max_wind_speed', 'days_with_fog'], axis=1)\n",
    "no_precip_maxes_target = no_precip_maxes[[\"site_eui\"]]\n",
    "no_precip_maxes = no_precip_maxes.drop(\"site_eui\", axis=1)"
   ]
  },
  {
   "cell_type": "code",
   "execution_count": null,
   "id": "97e0bdbf-405c-4c65-883d-2dc3835ce92d",
   "metadata": {},
   "outputs": [],
   "source": [
    "no_precip_maxes.to_csv(\"no_precip_maxes_train.csv\")\n",
    "no_precip_maxes_target.to_csv(\"no_precip_maxes_target.csv\")"
   ]
  },
  {
   "cell_type": "code",
   "execution_count": null,
   "id": "615a13ff-e509-4e8c-8155-537860315dc6",
   "metadata": {},
   "outputs": [],
   "source": [
    "no_precip = no_id.drop(['precipitation_inches', 'snowfall_inches',\n",
    "       'snowdepth_inches', 'direction_max_wind_speed',\n",
    "       'direction_peak_wind_speed', 'max_wind_speed', 'days_with_fog'], axis=1)\n",
    "no_precip_target = no_precip[[\"site_eui\"]]\n",
    "no_precip = no_precip.drop(\"site_eui\", axis=1)"
   ]
  },
  {
   "cell_type": "code",
   "execution_count": null,
   "id": "4ff65713-9301-4761-8650-a204c71bdba7",
   "metadata": {},
   "outputs": [],
   "source": [
    "no_precip.to_csv(\"no_precip_train.csv\")\n",
    "no_precip_target.to_csv(\"no_precip_target.csv\")"
   ]
  },
  {
   "cell_type": "code",
   "execution_count": null,
   "id": "371f1d08-483e-44d3-9177-51b98a600236",
   "metadata": {},
   "outputs": [],
   "source": [
    "temp_6 = no_id[no_id.State_Factor != \"State_6\"]\n",
    "no_precip_maxes_6 = temp_6.drop(['cooling_degree_days',\n",
    "       'heating_degree_days', 'precipitation_inches', 'snowfall_inches',\n",
    "       'snowdepth_inches', 'days_below_30F', 'days_below_20F',\n",
    "       'days_below_10F', 'days_below_0F', 'days_above_80F', 'days_above_90F',\n",
    "       'days_above_100F', 'days_above_110F', 'direction_max_wind_speed',\n",
    "       'direction_peak_wind_speed', 'max_wind_speed', 'days_with_fog'], axis=1)\n",
    "no_precip_maxes_6_target = no_precip_maxes_6[[\"site_eui\"]]\n",
    "no_precip_maxes_6 = no_precip_maxes_6.drop(\"site_eui\", axis=1)"
   ]
  },
  {
   "cell_type": "code",
   "execution_count": null,
   "id": "987e0d66-dd88-406d-a203-b7911002ba31",
   "metadata": {},
   "outputs": [],
   "source": [
    "no_precip_maxes.to_csv(\"no_precip_maxes_6_train.csv\")\n",
    "no_precip_maxes_target.to_csv(\"no_precip_maxes_6_target.csv\")"
   ]
  },
  {
   "cell_type": "code",
   "execution_count": null,
   "id": "b86f5534-13d4-47e5-89cf-ec3e41335866",
   "metadata": {},
   "outputs": [],
   "source": []
  },
  {
   "cell_type": "code",
   "execution_count": null,
   "id": "f1fcaad7-4d90-46de-a03d-41ca7cdeab3d",
   "metadata": {},
   "outputs": [],
   "source": []
  },
  {
   "cell_type": "code",
   "execution_count": null,
   "id": "12592d91-08b1-45cd-9628-e8ba9f4123a8",
   "metadata": {},
   "outputs": [],
   "source": []
  },
  {
   "cell_type": "code",
   "execution_count": null,
   "id": "2c12485c-a103-4ce4-a261-44cba18ad40b",
   "metadata": {},
   "outputs": [],
   "source": []
  },
  {
   "cell_type": "code",
   "execution_count": null,
   "id": "c1ae540c-8e43-4d3b-b603-2538b1d952fa",
   "metadata": {},
   "outputs": [],
   "source": []
  }
 ],
 "metadata": {
  "kernelspec": {
   "display_name": "Python 3",
   "language": "python",
   "name": "python3"
  },
  "language_info": {
   "codemirror_mode": {
    "name": "ipython",
    "version": 3
   },
   "file_extension": ".py",
   "mimetype": "text/x-python",
   "name": "python",
   "nbconvert_exporter": "python",
   "pygments_lexer": "ipython3",
   "version": "3.8.2"
  }
 },
 "nbformat": 4,
 "nbformat_minor": 5
}
